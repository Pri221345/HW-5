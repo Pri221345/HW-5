{
 "cells": [
  {
   "cell_type": "markdown",
   "id": "bde02280",
   "metadata": {},
   "source": [
    "The states from the given question\n",
    "\n"
   ]
  },
  {
   "cell_type": "code",
   "execution_count": 28,
   "id": "f9fcf86e",
   "metadata": {},
   "outputs": [
    {
     "name": "stdout",
     "output_type": "stream",
     "text": [
      "{0: 'rest', 1: 'sweeties', 2: 'exercises'}\n"
     ]
    }
   ],
   "source": [
    "Activity_state = {\n",
    "    0: 'rest',\n",
    "    1: 'sweeties',\n",
    "    2: 'exercises'\n",
    "}\n",
    "\n",
    "print(Activity_state)\n"
   ]
  },
  {
   "cell_type": "markdown",
   "id": "2409ba56",
   "metadata": {},
   "source": [
    "The transition matrix from the given state diagram is given below:"
   ]
  },
  {
   "cell_type": "code",
   "execution_count": 29,
   "id": "88015d4e",
   "metadata": {},
   "outputs": [
    {
     "name": "stdout",
     "output_type": "stream",
     "text": [
      "[[0.2 0.2 0.6]\n",
      " [0.2 0.1 0.7]\n",
      " [0.1 0.3 0.6]]\n"
     ]
    }
   ],
   "source": [
    "transition_matrix = np.array([[0.2, 0.2, 0.6],\n",
    "                             [0.2, 0.1, 0.7],\n",
    "                             [0.1, 0.3, 0.6]])\n",
    "print(transition_matrix)"
   ]
  },
  {
   "cell_type": "markdown",
   "id": "b4b574f5",
   "metadata": {},
   "source": [
    "The random walk could be as follow:"
   ]
  },
  {
   "cell_type": "code",
   "execution_count": 30,
   "id": "9f58009d",
   "metadata": {
    "scrolled": true
   },
   "outputs": [
    {
     "name": "stdout",
     "output_type": "stream",
     "text": [
      "sweeties ->rest ->rest ->rest ->rest ->rest ->rest ->rest ->rest ->sweeties ->sweeties ->rest ->rest ->exercises ->sweeties ->"
     ]
    }
   ],
   "source": [
    "import numpy as np\n",
    "\n",
    "# Defining the transition matrix\n",
    "transition_matrix = np.array([[0.7, 0.2, 0.1],\n",
    "                              [0.3, 0.6, 0.1],\n",
    "                              [0.1, 0.4, 0.5]])\n",
    "\n",
    "# Defining the activity states\n",
    "Activity_state = {\n",
    "    0: 'rest',\n",
    "    1: 'sweeties',\n",
    "    2: 'exercises'\n",
    "}\n",
    "\n",
    "# Setting up the number of steps and starting state\n",
    "n = 15\n",
    "starting_state = 0\n",
    "previous_state = starting_state\n",
    "\n",
    "# Now performimg the random walk\n",
    "for i in range(n):\n",
    "    current_state = np.random.choice([0, 1, 2], p=transition_matrix[previous_state])\n",
    "    print(Activity_state[current_state], \"->\", end=\"\")\n",
    "    # Update the previous state\n",
    "   \n",
    "\n",
    "\n",
    "    "
   ]
  },
  {
   "cell_type": "markdown",
   "id": "654087cd",
   "metadata": {},
   "source": [
    "The starting state is Rest. Calculate the probability of possible activity on the 15th day.\n",
    "What about the state and probability after 10000 days?"
   ]
  },
  {
   "cell_type": "code",
   "execution_count": 31,
   "id": "6d90cb15",
   "metadata": {},
   "outputs": [
    {
     "name": "stdout",
     "output_type": "stream",
     "text": [
      "Probability of activities on the 15th day:\n",
      "Rest: 0.137614678899138\n",
      "Sweeties: 0.238532110091598\n",
      "Exercises: 0.6238532110092639\n",
      "\n",
      "Probability of activities after 10,000 days:\n",
      "Rest: 0.13761467889908133\n",
      "Sweeties: 0.23853211009174094\n",
      "Exercises: 0.6238532110091686\n"
     ]
    }
   ],
   "source": [
    "import numpy as np\n",
    "\n",
    "# Transition matrix\n",
    "transition_matrix = np.array([[0.2, 0.2, 0.6],\n",
    "                             [0.2, 0.1, 0.7],\n",
    "                             [0.1, 0.3, 0.6]])\n",
    "# Starting state vector\n",
    "start_state = np.array([1, 0, 0])  # Rest is the starting state\n",
    "probability_15_days = np.linalg.matrix_power(transition_matrix.T, 15) @ start_state # Calculating probability after 15 days\n",
    "probability_10000_days = np.linalg.matrix_power(transition_matrix.T, 10000) @ start_state # Calculating probability after 10,000 days\n",
    "print(\"Probability of activities on the 15th day:\") # output of the respective probabilities\n",
    "print(\"Rest:\", probability_15_days[0])\n",
    "print(\"Sweeties:\",probability_15_days[1])\n",
    "print(\"Exercises:\", probability_15_days[2])\n",
    "\n",
    "print(\"\\nProbability of activities after 10,000 days:\")\n",
    "print(\"Rest:\", probability_10000_days[0])\n",
    "print(\"Sweeties:\", probability_10000_days[1])\n",
    "print(\"Exercises:\", probability_10000_days[2])\n"
   ]
  },
  {
   "cell_type": "markdown",
   "id": "bf65a273",
   "metadata": {},
   "source": [
    "What do you observe from the above two?"
   ]
  },
  {
   "cell_type": "markdown",
   "id": "bccfdf92",
   "metadata": {},
   "source": [
    "While solving the above probability, we get to know  that as the number of days went up, the odds tend to stay the same. Even after a long time, 10,000 days case, the chances  in each state get closeby to certain values. Here,in this case, the chances after 10,000 days are very close to the chances after 15 days. It represents that the distribution reached a stable state. We received information that as the number of steps goes up, the probability values get closer together. Where, if the number of trials is low, the model supposed to give too high of odds for rest and sweeties. Hence, as the number of trials goes up, the activities after 10,000 days  settle on 13.76% for rest, 23.85% for sweets, and 62.39% for exercises."
   ]
  }
 ],
 "metadata": {
  "kernelspec": {
   "display_name": "Python 3 (ipykernel)",
   "language": "python",
   "name": "python3"
  },
  "language_info": {
   "codemirror_mode": {
    "name": "ipython",
    "version": 3
   },
   "file_extension": ".py",
   "mimetype": "text/x-python",
   "name": "python",
   "nbconvert_exporter": "python",
   "pygments_lexer": "ipython3",
   "version": "3.10.9"
  }
 },
 "nbformat": 4,
 "nbformat_minor": 5
}
